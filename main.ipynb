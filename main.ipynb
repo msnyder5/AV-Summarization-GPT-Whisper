{
 "cells": [
  {
   "cell_type": "code",
   "execution_count": null,
   "metadata": {},
   "outputs": [],
   "source": [
    "from handlers import AVHandler, YouTubeHandler, SummaryHandler"
   ]
  },
  {
   "attachments": {},
   "cell_type": "markdown",
   "metadata": {},
   "source": [
    "Both `AVHandler` and `YouTubeHandler` are utilities that are built to get you to the same place, a `SummaryHandler`. Before we can get a `SummaryHandler`, we need a `Transcript` containing the text of the audio/video. The YouTubeHandler will try to use a caption track (that is allowed to use via the options). Otherwise, it will download the audio track and create an `AVHandler` which will use Whisper to generate the `Transcript`."
   ]
  },
  {
   "cell_type": "code",
   "execution_count": null,
   "metadata": {},
   "outputs": [],
   "source": [
    "# AV Example\n",
    "transcript_handler = AVHandler(\n",
    "    filepath='./example.mp4',\n",
    "    title='Example Input Video Title',\n",
    "    # whispermodel=\n",
    ")\n",
    "# YouTube Example\n",
    "transcript_handler = YouTubeHandler(\n",
    "    'https://www.youtube.com/watch?v=9yjZpBq1XBE',\n",
    "    # youtubecaptions=\n",
    "    # youtubeautocaptions=\n",
    ")"
   ]
  },
  {
   "cell_type": "code",
   "execution_count": null,
   "metadata": {},
   "outputs": [],
   "source": [
    "summary_handler: SummaryHandler = transcript_handler.get_summary_handler()\n",
    "print(summary_handler.prompt)"
   ]
  },
  {
   "cell_type": "code",
   "execution_count": null,
   "metadata": {},
   "outputs": [],
   "source": [
    "# If you want to change the summary handler settings, change it's properties before calling get_summary.\n",
    "\n",
    "# summary_handler.title = \n",
    "# summary_handler.texttokenlimit = \n",
    "# summary_handler.responsetokenlimit = \n",
    "# summary_handler.frontsentencespreserved = \n",
    "# summary_handler.backsentencespreserved = "
   ]
  },
  {
   "cell_type": "code",
   "execution_count": null,
   "metadata": {},
   "outputs": [],
   "source": [
    "summary = summary_handler.get_summary()\n",
    "print(summary)"
   ]
  }
 ],
 "metadata": {
  "kernelspec": {
   "display_name": "av-summarizer",
   "language": "python",
   "name": "python3"
  },
  "language_info": {
   "codemirror_mode": {
    "name": "ipython",
    "version": 3
   },
   "file_extension": ".py",
   "mimetype": "text/x-python",
   "name": "python",
   "nbconvert_exporter": "python",
   "pygments_lexer": "ipython3",
   "version": "3.10.9 | packaged by conda-forge | (main, Jan 11 2023, 15:15:40) [MSC v.1916 64 bit (AMD64)]"
  },
  "orig_nbformat": 4,
  "vscode": {
   "interpreter": {
    "hash": "8d1355e397b9d146725cac3feb603f1e38bccea9cbd14011dea6e78d79be37bb"
   }
  }
 },
 "nbformat": 4,
 "nbformat_minor": 2
}
